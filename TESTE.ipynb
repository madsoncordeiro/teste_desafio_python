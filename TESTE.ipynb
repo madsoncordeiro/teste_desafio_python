{
  "nbformat": 4,
  "nbformat_minor": 0,
  "metadata": {
    "colab": {
      "provenance": []
    },
    "kernelspec": {
      "name": "python3",
      "display_name": "Python 3"
    },
    "language_info": {
      "name": "python"
    }
  },
  "cells": [
    {
      "cell_type": "code",
      "execution_count": null,
      "metadata": {
        "colab": {
          "base_uri": "https://localhost:8080/"
        },
        "id": "wOJ6OSDw8W1j",
        "outputId": "b06d77f8-f78a-444c-d406-f85ed82908b6"
      },
      "outputs": [
        {
          "output_type": "stream",
          "name": "stdout",
          "text": [
            "91\n"
          ]
        }
      ],
      "source": [
        "'''\n",
        "Pergunta 1 de 3\n",
        "Observe o trecho de código abaixo:\n",
        "\n",
        "int INDICE = 13, SOMA = 0, K = 0;\n",
        "\n",
        "enquanto K < INDICE faça\n",
        "{\n",
        "K = K + 1;\n",
        "SOMA = SOMA + K;\n",
        "}\n",
        "\n",
        "imprimir(SOMA);\n",
        "\n",
        "Ao final do processamento, qual será o valor da variável SOMA?\n",
        "'''\n",
        "\n",
        "INDICE = int(13)\n",
        "SOMA = int(0)\n",
        "K = int(0)\n",
        "\n",
        "while K < INDICE:\n",
        "  K = K + 1\n",
        "  SOMA = SOMA + K\n",
        "\n",
        "print(SOMA)"
      ]
    },
    {
      "cell_type": "code",
      "source": [
        "'''\n",
        "2) Dado a sequência de Fibonacci, onde se inicia por 0 e 1 e o próximo valor sempre será a soma dos 2 valores anteriores \n",
        "(exemplo: 0, 1, 1, 2, 3, 5, 8, 13, 21, 34...), escreva um programa na linguagem que desejar onde, informado um número, ele calcule a \n",
        "sequência de Fibonacci e retorne uma mensagem avisando se o número informado pertence ou não a sequência.\n",
        "\n",
        "IMPORTANTE:\n",
        "Esse número pode ser informado através de qualquer entrada de sua preferência ou pode ser previamente definido no código;\n",
        "'''\n",
        "\n",
        "numero = int(input(\"Digite um número para avaliar se ele está em um sequência Fibonacci: \"))\n",
        "\n",
        "fibonacci = [0, 1]\n",
        "\n",
        "while fibonacci[-1] < numero:\n",
        "    fibonacci.append(fibonacci[-1] + fibonacci[-2])\n",
        "\n",
        "if numero in fibonacci:\n",
        "    print(f\"O {numero} está dentro da sequência Fibonacci {fibonacci}. \")\n",
        "else:\n",
        "    print(f\"O {numero} não está dentro da sequência Fibonacci {fibonacci}. \")"
      ],
      "metadata": {
        "colab": {
          "base_uri": "https://localhost:8080/"
        },
        "id": "vLT42NT89LK7",
        "outputId": "ea363304-3103-4b71-e316-ccf33d635281"
      },
      "execution_count": null,
      "outputs": [
        {
          "output_type": "stream",
          "name": "stdout",
          "text": [
            "Digite um número para avaliar se ele está em um sequência Fibonacci: 156\n",
            "O 156 não está dentro da sequência Fibonacci [0, 1, 1, 2, 3, 5, 8, 13, 21, 34, 55, 89, 144, 233]. \n"
          ]
        }
      ]
    },
    {
      "cell_type": "code",
      "source": [
        "'''\n",
        "3) Dado um vetor que guarda o valor de faturamento diário de uma distribuidora, faça um programa, na linguagem que desejar, que calcule e retorne:\n",
        "• O menor valor de faturamento ocorrido em um dia do mês;\n",
        "• O maior valor de faturamento ocorrido em um dia do mês;\n",
        "• Número de dias no mês em que o valor de faturamento diário foi superior à média mensal.\n",
        "\n",
        "IMPORTANTE:\n",
        "a) Usar o json ou xml disponível como fonte dos dados do faturamento mensal;\n",
        "b) Podem existir dias sem faturamento, como nos finais de semana e feriados. Estes dias devem ser ignorados no cálculo da média;\n",
        "'''"
      ],
      "metadata": {
        "id": "zEfdk7diChi7"
      },
      "execution_count": null,
      "outputs": []
    },
    {
      "cell_type": "code",
      "source": [
        "'''\n",
        "4) Dado o valor de faturamento mensal de uma distribuidora, detalhado por estado:\n",
        "\n",
        "SP – R$67.836,43\n",
        "RJ – R$36.678,66\n",
        "MG – R$29.229,88\n",
        "ES – R$27.165,48\n",
        "Outros – R$19.849,53\n",
        "\n",
        "Escreva um programa na linguagem que desejar onde calcule o percentual de representação que cada estado teve dentro do valor total mensal \n",
        "da distribuidora.\n",
        "'''\n",
        "\n",
        "faturamento_mensal = {\n",
        "    'SP': 67836.43,\n",
        "    'RJ': 36678.66,\n",
        "    'MG': 29229.88,\n",
        "    'ES': 27165.48,\n",
        "    'Outros': 19849.53\n",
        "}\n",
        "\n",
        "faturamento_total = sum(faturamento_mensal.values())\n",
        "\n",
        "# Calculate percentage of representation for each state\n",
        "for estado, faturamento in faturamento_mensal.items():\n",
        "    porcentagem = faturamento / faturamento_total * 100\n",
        "    print(f'{estado}: {porcentagem:.2f}%')"
      ],
      "metadata": {
        "colab": {
          "base_uri": "https://localhost:8080/"
        },
        "id": "FXXWzFCjEcWn",
        "outputId": "dc0b87c3-d55e-4aca-9f2b-446fe7857912"
      },
      "execution_count": null,
      "outputs": [
        {
          "output_type": "stream",
          "name": "stdout",
          "text": [
            "SP: 37.53%\n",
            "RJ: 20.29%\n",
            "MG: 16.17%\n",
            "ES: 15.03%\n",
            "Outros: 10.98%\n"
          ]
        }
      ]
    },
    {
      "cell_type": "code",
      "source": [
        "'''\n",
        "5) Escreva um programa que inverta os caracteres de um string.\n",
        "\n",
        "IMPORTANTE:\n",
        "a) Essa string pode ser informada através de qualquer entrada de sua preferência ou pode ser previamente definida no código;\n",
        "b) Evite usar funções prontas, como, por exemplo, reverse;\n",
        "'''\n",
        "\n",
        "string = input(\"Digite uma palavra ou uma frase: \")\n",
        "\n",
        "print(string[::-1])"
      ],
      "metadata": {
        "colab": {
          "base_uri": "https://localhost:8080/"
        },
        "id": "HeW5khjPGzH-",
        "outputId": "3930f92a-52f5-43e6-e606-9e78f991773b"
      },
      "execution_count": null,
      "outputs": [
        {
          "output_type": "stream",
          "name": "stdout",
          "text": [
            "Digite uma palavra ou uma frase: Madson Cordeiro\n",
            "oriedroC nosdaM\n"
          ]
        }
      ]
    }
  ]
}